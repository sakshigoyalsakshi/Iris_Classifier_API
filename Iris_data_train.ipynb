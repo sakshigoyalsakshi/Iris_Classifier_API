{
 "cells": [
  {
   "cell_type": "code",
   "execution_count": 106,
   "metadata": {},
   "outputs": [],
   "source": [
    "import pandas as pd\n",
    "import numpy as np\n",
    "import torch\n",
    "import torch.nn as nn\n",
    "import torch.nn.functional as F\n",
    "import matplotlib.pyplot as plt\n",
    "from sklearn.model_selection import train_test_split\n",
    "from torch.utils.data import TensorDataset, DataLoader"
   ]
  },
  {
   "cell_type": "code",
   "execution_count": 107,
   "metadata": {},
   "outputs": [],
   "source": [
    "class Model(nn.Module):\n",
    "    \n",
    "    def __init__(self, in_features=0, out_feature=0, hidden_features_1=0, hidden_features_2=0):\n",
    "        super().__init__()\n",
    "        self.fc1 = nn.Linear(in_features, hidden_features_1)\n",
    "        self.fc2 = nn.Linear(hidden_features_1,hidden_features_2)\n",
    "        self.out = nn.Linear(hidden_features_2, out_feature)\n",
    "            \n",
    "    def forward(self,x):\n",
    "        x = F.relu(self.fc1(x))\n",
    "        x = F.relu(self.fc2(x))\n",
    "        x = self.out(x)\n",
    "        return x"
   ]
  },
  {
   "cell_type": "code",
   "execution_count": 108,
   "metadata": {},
   "outputs": [],
   "source": [
    "df = pd.read_csv(\"/Users/sakshigoyal/Desktop/Udemy_pytorch/PYTORCH_NOTEBOOKS/Data/iris.csv\")\n",
    "#df.head()"
   ]
  },
  {
   "cell_type": "code",
   "execution_count": 109,
   "metadata": {},
   "outputs": [],
   "source": [
    "\n",
    "X_train, X_test, Y_train, Y_test = train_test_split(df.drop('target', axis=1).values, df['target'].values, test_size=0.2, random_state =33)"
   ]
  },
  {
   "cell_type": "code",
   "execution_count": 110,
   "metadata": {},
   "outputs": [],
   "source": [
    "X_train = torch.FloatTensor(X_train)\n",
    "X_test = torch.FloatTensor(X_test)\n",
    "Y_test = torch.LongTensor(Y_test)\n",
    "Y_train = torch.LongTensor(Y_train)"
   ]
  },
  {
   "cell_type": "code",
   "execution_count": 111,
   "metadata": {},
   "outputs": [],
   "source": [
    "trainloader = DataLoader(X_train, batch_size=60, shuffle=True)\n",
    "\n",
    "testloader = DataLoader(X_test, batch_size=60, shuffle=False)"
   ]
  },
  {
   "cell_type": "code",
   "execution_count": 112,
   "metadata": {},
   "outputs": [],
   "source": [
    "# FOR REDO\n",
    "torch.manual_seed(4)\n",
    "model = Model(4,3,8,9)\n",
    "criterion = nn.CrossEntropyLoss()\n",
    "optimizer = torch.optim.Adam(model.parameters(), lr=0.01)"
   ]
  },
  {
   "cell_type": "code",
   "execution_count": 113,
   "metadata": {},
   "outputs": [
    {
     "name": "stdout",
     "output_type": "stream",
     "text": [
      "epoch:  1  loss: 1.08040535\n",
      "epoch: 11  loss: 0.96687949\n",
      "epoch: 21  loss: 0.72590250\n",
      "epoch: 31  loss: 0.47492674\n",
      "epoch: 41  loss: 0.33777791\n",
      "epoch: 51  loss: 0.21720311\n",
      "epoch: 61  loss: 0.12907785\n",
      "epoch: 71  loss: 0.08912650\n",
      "epoch: 81  loss: 0.07264634\n",
      "epoch: 91  loss: 0.06489738\n"
     ]
    }
   ],
   "source": [
    "epochs=100\n",
    "losses = []\n",
    "for i in range(epochs):\n",
    "    y_pred = model(X_train)\n",
    "    loss = criterion(y_pred, Y_train)\n",
    "    losses.append(loss.item())\n",
    "    if i%10 == 1:\n",
    "        print(f'epoch: {i:2}  loss: {loss.item():10.8f}')\n",
    "    optimizer.zero_grad()\n",
    "    loss.backward()\n",
    "    optimizer.step()\n",
    "    "
   ]
  },
  {
   "cell_type": "code",
   "execution_count": 114,
   "metadata": {},
   "outputs": [
    {
     "data": {
      "image/png": "[encoded data removed]",
      "text/plain": [
       "<Figure size 432x288 with 1 Axes>"
      ]
     },
     "metadata": {
      "needs_background": "light"
     },
     "output_type": "display_data"
    }
   ],
   "source": [
    "plt.plot(range(epochs), losses)\n",
    "plt.ylabel('Loss')\n",
    "plt.xlabel('epoch');"
   ]
  },
  {
   "cell_type": "code",
   "execution_count": 115,
   "metadata": {},
   "outputs": [
    {
     "name": "stdout",
     "output_type": "stream",
     "text": [
      "loss : 0.06246214\n"
     ]
    }
   ],
   "source": [
    "with torch.no_grad():\n",
    "    y_val = model.forward(X_test)\n",
    "    loss = criterion(y_val, Y_test)\n",
    "    print(f'loss : {loss:.8f}')\n",
    "    "
   ]
  },
  {
   "cell_type": "code",
   "execution_count": 116,
   "metadata": {},
   "outputs": [
    {
     "name": "stdout",
     "output_type": "stream",
     "text": [
      "ind : 1. tensor([-0.3355,  7.3630,  1.3783])    target:1\n",
      "ind : 2. tensor([0.2775, 8.1554, 0.4269])       target:1\n",
      "ind : 3. tensor([ 11.9970,   6.1847, -19.1976]) target:0\n",
      "ind : 4. tensor([-2.0187,  7.9664,  4.2447])    target:1\n",
      "ind : 5. tensor([-6.1348,  7.9516, 11.0913])    target:2\n",
      "ind : 6. tensor([-10.2635,   8.3101,  17.9998]) target:2\n",
      "ind : 7. tensor([ 12.0542,   6.4321, -19.2909]) target:0\n",
      "ind : 8. tensor([ 12.9507,   6.4819, -20.7540]) target:0\n",
      "ind : 9. tensor([-5.7722,  8.2435, 10.5083])    target:2\n",
      "ind : 10. tensor([-7.8867,  8.6126, 14.0731])    target:2\n",
      "ind : 11. tensor([-8.7055,  8.6074, 15.4337])    target:2\n",
      "ind : 12. tensor([ 11.6358,   5.8167, -18.6219]) target:0\n",
      "ind : 13. tensor([-8.1009,  8.2331, 14.3888])    target:2\n",
      "ind : 14. tensor([-2.0791,  7.7752,  4.3188])    target:1\n",
      "ind : 15. tensor([-6.0828,  8.3916, 11.0586])    target:2\n",
      "ind : 16. tensor([0.1360, 7.8660, 0.6409])       target:1\n",
      "ind : 17. tensor([-4.0875,  7.7217,  7.6642])    target:2\n",
      "ind : 18. tensor([ 13.1522,   6.5911, -21.0798]) target:0\n",
      "ind : 19. tensor([-1.5644,  8.0222,  3.4754])    target:1\n",
      "ind : 20. tensor([-6.2859,  8.9728, 11.4249])    target:2\n",
      "ind : 21. tensor([ 12.3859,   6.2571, -19.8275]) target:0\n",
      "ind : 22. tensor([ 13.8200,   7.0859, -22.1527]) target:0\n",
      "ind : 23. tensor([-8.8470,  8.3180, 15.6476])    target:2\n",
      "ind : 24. tensor([ 12.1979,   6.1264, -19.5260]) target:0\n",
      "ind : 25. tensor([-5.8084,  7.5468, 10.5340])    target:2\n",
      "ind : 26. tensor([-4.4526,  7.7876,  8.2865])    target:2\n",
      "ind : 27. tensor([-1.4284,  7.7786,  3.2328])    target:1\n",
      "ind : 28. tensor([ 0.5356,  7.5360, -0.0492])    target:1\n",
      "ind : 29. tensor([-5.8230,  8.1573, 10.5976])    target:2\n",
      "ind : 30. tensor([-5.2569,  7.7476,  9.6105])    target:2\n",
      "29 out of 30 is correct : 96.666667%\n",
      "29 out of 30 is correct: 96.6667 %\n"
     ]
    }
   ],
   "source": [
    "correct = 0\n",
    "with torch.no_grad():\n",
    "    for i,data in enumerate(X_test):\n",
    "        y_pred = model.forward(data)\n",
    "        print(f'ind : {i+1:d}. {str(y_pred):38} target:{Y_test[i]}')\n",
    "        if torch.argmax(y_pred) == Y_test[i]:\n",
    "            correct +=1\n",
    "            \n",
    "print(f'{correct} out of {len(X_test)} is correct : {correct*100/len(X_test):0.6f}%')\n",
    "print(\"{} out of {} is correct: {:.6} %\".format(correct, len(X_test), correct*100/len(X_test)))\n",
    "        "
   ]
  },
  {
   "cell_type": "code",
   "execution_count": 117,
   "metadata": {},
   "outputs": [],
   "source": [
    "# save model\n",
    "torch.save(model.state_dict(), 'IrisDatasetModel.pt')"
   ]
  },
  {
   "cell_type": "code",
   "execution_count": 118,
   "metadata": {},
   "outputs": [
    {
     "data": {
      "text/plain": [
       "Model(\n",
       "  (fc1): Linear(in_features=4, out_features=8, bias=True)\n",
       "  (fc2): Linear(in_features=8, out_features=9, bias=True)\n",
       "  (out): Linear(in_features=9, out_features=3, bias=True)\n",
       ")"
      ]
     },
     "execution_count": 118,
     "metadata": {},
     "output_type": "execute_result"
    }
   ],
   "source": [
    "#load model\n",
    "new_model = Model(4,3,8,9)\n",
    "new_model.load_state_dict(torch.load('IrisDatasetModel.pt'))\n",
    "new_model.eval()"
   ]
  },
  {
   "cell_type": "code",
   "execution_count": 119,
   "metadata": {},
   "outputs": [
    {
     "data": {
      "text/plain": [
       "tensor(0)"
      ]
     },
     "execution_count": 119,
     "metadata": {},
     "output_type": "execute_result"
    }
   ],
   "source": [
    "mystery_iris = torch.tensor([5.6,3.7,2.2,0.5])\n",
    "target_pred = torch.argmax(model(mystery_iris))\n",
    "target_pred"
   ]
  },
  {
   "cell_type": "code",
   "execution_count": 120,
   "metadata": {},
   "outputs": [
    {
     "data": {
      "image/png": "[encoded data removed]",
      "text/plain": [
       "<Figure size 720x504 with 4 Axes>"
      ]
     },
     "metadata": {
      "needs_background": "light"
     },
     "output_type": "display_data"
    }
   ],
   "source": [
    "f, axs = plt.subplots(2,2,figsize=(10,7))\n",
    "labels = ['Iris setosa','Iris virginica','Iris versicolor']\n",
    "feature = ['sepal length (cm)', 'sepal 3 (cm)', 'petal length (cm)', 'petal width (cm)']\n",
    "colors = ['r', 'g', 'b']\n",
    "for j, ax in enumerate(axs.flat):\n",
    "    for i in range(3):\n",
    "        ax.scatter(df[df['target'] == i][feature[j]], range(len(df[df['target'] == i])), color=colors[i])\n",
    "        ax.set(xlabel=feature[j])\n",
    "    ax.scatter(mystery_iris[j], target_pred, color='y')\n",
    "f.legend(labels=labels,loc='best')\n",
    "plt.show() "
   ]
  }
 ],
 "metadata": {
  "kernelspec": {
   "display_name": "Python 3",
   "language": "python",
   "name": "python3"
  },
  "language_info": {
   "codemirror_mode": {
    "name": "ipython",
    "version": 3
   },
   "file_extension": ".py",
   "mimetype": "text/x-python",
   "name": "python",
   "nbconvert_exporter": "python",
   "pygments_lexer": "ipython3",
   "version": "3.7.3"
  }
 },
 "nbformat": 4,
 "nbformat_minor": 4
}
